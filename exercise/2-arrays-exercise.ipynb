{
 "cells": [
  {
   "cell_type": "code",
   "execution_count": 23,
   "id": "99116d95",
   "metadata": {},
   "outputs": [
    {
     "data": {
      "text/plain": [
       "[5, 5, 5, 7, 9]"
      ]
     },
     "execution_count": 23,
     "metadata": {},
     "output_type": "execute_result"
    }
   ],
   "source": [
    "def insert_beg(arr, item):\n",
    "    arr.append(None) # extend the list by one slot\n",
    "    n = len(arr) - 1 # last valid index before shifting\n",
    "    i = n - 1\n",
    "    while i > 0:\n",
    "        arr[i+1] = arr[i]  # shift right\n",
    "        i -= 1\n",
    "    arr[0] = item\n",
    "    return arr\n",
    "        \n",
    "insert_beg([2, 5, 7, 9], 5)"
   ]
  },
  {
   "cell_type": "code",
   "execution_count": 24,
   "id": "039815a0",
   "metadata": {},
   "outputs": [
    {
     "data": {
      "text/plain": [
       "[2, 5, 7, 4, 9]"
      ]
     },
     "execution_count": 24,
     "metadata": {},
     "output_type": "execute_result"
    }
   ],
   "source": [
    "def insert_end(arr, item):\n",
    "    n = len(arr)\n",
    "    arr.append(None)\n",
    "    \n",
    "    i = 0\n",
    "    while i < 0:\n",
    "        i += 1\n",
    "    arr[n] = item\n",
    "    return arr\n",
    "\n",
    "insert_end([2,5,7,4], 9)"
   ]
  },
  {
   "cell_type": "code",
   "execution_count": 25,
   "id": "15b229c0",
   "metadata": {},
   "outputs": [
    {
     "data": {
      "text/plain": [
       "[4, 6, 8]"
      ]
     },
     "execution_count": 25,
     "metadata": {},
     "output_type": "execute_result"
    }
   ],
   "source": [
    "def delete_beg(arr, n):\n",
    "    n = len(arr)\n",
    "    if n == 0:\n",
    "        print('Underflow')\n",
    "        return arr\n",
    "    \n",
    "    i = 0\n",
    "    while i < n-1:\n",
    "        # arr[i-1] = arr[i] # shift left\n",
    "        arr[i] = arr[i+1]\n",
    "        i += 1\n",
    "        \n",
    "    arr.pop()\n",
    "    return arr\n",
    "        \n",
    "delete_beg([2, 4, 6, 8], 2)"
   ]
  },
  {
   "cell_type": "code",
   "execution_count": 29,
   "id": "529e22c6",
   "metadata": {},
   "outputs": [
    {
     "data": {
      "text/plain": [
       "[2, 4, 6]"
      ]
     },
     "execution_count": 29,
     "metadata": {},
     "output_type": "execute_result"
    }
   ],
   "source": [
    "def delete_end(arr):\n",
    "    n = len(arr)\n",
    "    if n == 0:\n",
    "        print('Undeflow')\n",
    "        return arr\n",
    "    else:\n",
    "        arr[n-1] = 0\n",
    "        n -= 1\n",
    "        arr = arr[:-1]\n",
    "        \n",
    "    return arr\n",
    "        \n",
    "delete_end([2, 4, 6, 7])"
   ]
  },
  {
   "cell_type": "code",
   "execution_count": 30,
   "id": "61485a88",
   "metadata": {},
   "outputs": [
    {
     "name": "stdout",
     "output_type": "stream",
     "text": [
      "[10, 20, 30, 99, 40, 50]\n"
     ]
    }
   ],
   "source": [
    "def insert_after(arr, pos, item):\n",
    "    n = len(arr)\n",
    "    if pos < 0 or pos >= n:\n",
    "        print('Invalid psition')\n",
    "        return arr\n",
    "    arr.append(None) # extend list by 1\n",
    "    i = n - 1\n",
    "    while i > pos:   # shift elements to the right\n",
    "        arr[i+1] = arr[i]\n",
    "        i -= 1\n",
    "    arr[pos+1] = item\n",
    "    return arr\n",
    "\n",
    "print(insert_after([10, 20, 30, 40, 50], 2, 99))"
   ]
  },
  {
   "cell_type": "code",
   "execution_count": null,
   "id": "49a54f42",
   "metadata": {},
   "outputs": [
    {
     "name": "stdout",
     "output_type": "stream",
     "text": [
      "[10, 20, 30, 50]\n"
     ]
    }
   ],
   "source": [
    "def delete_after(arr, pos):\n",
    "    n = len(arr)\n",
    "    if n == 0:\n",
    "        print(\"Underflow\")\n",
    "        return arr\n",
    "    if pos < 0 or pos >= n-1:   # nothing to delete if pos is last or invalid\n",
    "        print(\"Invalid position (no element after it)\")\n",
    "        return arr\n",
    "    i = pos + 1\n",
    "    while i < n-1:              # shift elements left\n",
    "        arr[i] = arr[i+1]\n",
    "        i += 1\n",
    "    \n",
    "    arr.pop()                   # remove last duplicate\n",
    "    return arr\n",
    "\n",
    "# Example: delete element after position 2 (0-based)\n",
    "print(delete_after([10, 20, 30, 40, 50], 2))"
   ]
  },
  {
   "cell_type": "code",
   "execution_count": 1,
   "id": "4de26da0",
   "metadata": {},
   "outputs": [
    {
     "data": {
      "text/plain": [
       "8"
      ]
     },
     "execution_count": 1,
     "metadata": {},
     "output_type": "execute_result"
    }
   ],
   "source": [
    "def find_max(arr, n):\n",
    "    max1 = 0\n",
    "    for i in range(1, n):\n",
    "        if arr[i] > max1:\n",
    "            max1 = arr[i]\n",
    "    return max1\n",
    "\n",
    "find_max([2, 5, 7, 4, 8], 5)"
   ]
  },
  {
   "cell_type": "code",
   "execution_count": 8,
   "id": "3ff222b4",
   "metadata": {},
   "outputs": [
    {
     "ename": "IndexError",
     "evalue": "list index out of range",
     "output_type": "error",
     "traceback": [
      "\u001b[31m---------------------------------------------------------------------------\u001b[39m",
      "\u001b[31mIndexError\u001b[39m                                Traceback (most recent call last)",
      "\u001b[36mCell\u001b[39m\u001b[36m \u001b[39m\u001b[32mIn[8]\u001b[39m\u001b[32m, line 8\u001b[39m\n\u001b[32m      5\u001b[39m             min1 = arr[i]\n\u001b[32m      6\u001b[39m     \u001b[38;5;28;01mreturn\u001b[39;00m min1\n\u001b[32m----> \u001b[39m\u001b[32m8\u001b[39m \u001b[43mfind_min\u001b[49m\u001b[43m(\u001b[49m\u001b[43m[\u001b[49m\u001b[32;43m2\u001b[39;49m\u001b[43m,\u001b[49m\u001b[43m \u001b[49m\u001b[32;43m5\u001b[39;49m\u001b[43m,\u001b[49m\u001b[43m \u001b[49m\u001b[32;43m7\u001b[39;49m\u001b[43m,\u001b[49m\u001b[43m \u001b[49m\u001b[32;43m8\u001b[39;49m\u001b[43m]\u001b[49m\u001b[43m,\u001b[49m\u001b[43m \u001b[49m\u001b[32;43m4\u001b[39;49m\u001b[43m)\u001b[49m\n",
      "\u001b[36mCell\u001b[39m\u001b[36m \u001b[39m\u001b[32mIn[8]\u001b[39m\u001b[32m, line 4\u001b[39m, in \u001b[36mfind_min\u001b[39m\u001b[34m(arr, n)\u001b[39m\n\u001b[32m      2\u001b[39m min1 = \u001b[32m0\u001b[39m\n\u001b[32m      3\u001b[39m \u001b[38;5;28;01mfor\u001b[39;00m i \u001b[38;5;129;01min\u001b[39;00m \u001b[38;5;28mrange\u001b[39m(\u001b[32m1\u001b[39m, n):\n\u001b[32m----> \u001b[39m\u001b[32m4\u001b[39m     \u001b[38;5;28;01mif\u001b[39;00m arr[i] < \u001b[43marr\u001b[49m\u001b[43m[\u001b[49m\u001b[43mi\u001b[49m\u001b[43m+\u001b[49m\u001b[32;43m1\u001b[39;49m\u001b[43m]\u001b[49m:\n\u001b[32m      5\u001b[39m         min1 = arr[i]\n\u001b[32m      6\u001b[39m \u001b[38;5;28;01mreturn\u001b[39;00m min1\n",
      "\u001b[31mIndexError\u001b[39m: list index out of range"
     ]
    }
   ],
   "source": [
    "def find_min(arr, n):\n",
    "    min1 = 0\n",
    "    for i in range(1, n):\n",
    "        if arr[i] < arr[i+1]:\n",
    "            min1 = arr[i]\n",
    "    return min1\n",
    "\n",
    "find_min([2, 5, 7, 8], 4)"
   ]
  },
  {
   "cell_type": "code",
   "execution_count": 10,
   "id": "01f364d2",
   "metadata": {},
   "outputs": [
    {
     "data": {
      "text/plain": [
       "384"
      ]
     },
     "execution_count": 10,
     "metadata": {},
     "output_type": "execute_result"
    }
   ],
   "source": [
    "def find_product(arr, n):\n",
    "    prod1 = 1\n",
    "    for i in range(n):\n",
    "        prod1 *= arr[i]\n",
    "    return prod1\n",
    "\n",
    "find_product([2, 4, 6, 8], 4)"
   ]
  },
  {
   "cell_type": "code",
   "execution_count": null,
   "id": "65a38705",
   "metadata": {},
   "outputs": [
    {
     "data": {
      "text/plain": [
       "4"
      ]
     },
     "execution_count": 11,
     "metadata": {},
     "output_type": "execute_result"
    }
   ],
   "source": [
    "def linear_search(arr, n, item):\n",
    "    for i in range(1, n):\n",
    "        if arr[i] == item:\n",
    "            return i        # returns the index of matching item\n",
    "        \n",
    "linear_search([2,3,4,5,6,7,8,9], 8, 6)"
   ]
  },
  {
   "cell_type": "code",
   "execution_count": 12,
   "id": "0a0949a7",
   "metadata": {},
   "outputs": [],
   "source": [
    "def linear_search(arr, n, item):\n",
    "    indexes = []\n",
    "    for i in range(n):\n",
    "        if arr[i] == item:\n",
    "            indexes.append(i)\n",
    "    return indexes"
   ]
  },
  {
   "cell_type": "code",
   "execution_count": 13,
   "id": "64f4976b",
   "metadata": {},
   "outputs": [],
   "source": [
    "def linear_search(arr, n, item):\n",
    "    flag = 0\n",
    "    for i in range(n):\n",
    "        if arr[i] == item:\n",
    "            print(f\"Item found at index {i}\")\n",
    "            flag += 1\n",
    "        if flag == 0:\n",
    "            print(\"Item not found\")"
   ]
  },
  {
   "cell_type": "code",
   "execution_count": 15,
   "id": "6889dd93",
   "metadata": {},
   "outputs": [
    {
     "data": {
      "text/plain": [
       "2"
      ]
     },
     "execution_count": 15,
     "metadata": {},
     "output_type": "execute_result"
    }
   ],
   "source": [
    "def count_occurences(arr, n, item):\n",
    "    count = 0\n",
    "    for i in range(1, n):\n",
    "        if arr[i] == item:\n",
    "            count += 1\n",
    "    return count\n",
    "\n",
    "count_occurences([1,2,3,4,5,6,7,8,8,3,9,7,3], 13, 8)"
   ]
  },
  {
   "cell_type": "code",
   "execution_count": 16,
   "id": "455ce3c8",
   "metadata": {},
   "outputs": [
    {
     "data": {
      "text/plain": [
       "1.6666666666666667"
      ]
     },
     "execution_count": 16,
     "metadata": {},
     "output_type": "execute_result"
    }
   ],
   "source": [
    "def find_mean(arr):\n",
    "    if (len(arr) == 1):\n",
    "        return arr[0]\n",
    "    else:\n",
    "        return (arr[0] + find_mean(arr[1:]) * (len(arr) - 1)) / len(arr)\n",
    "    \n",
    "find_mean([1,1,2,2,2,2])"
   ]
  },
  {
   "cell_type": "code",
   "execution_count": 24,
   "id": "25edefce",
   "metadata": {},
   "outputs": [
    {
     "data": {
      "text/plain": [
       "(None, 5)"
      ]
     },
     "execution_count": 24,
     "metadata": {},
     "output_type": "execute_result"
    }
   ],
   "source": [
    "def find_median(arr, n):\n",
    "    arr.sort()\n",
    "    if n % 2 == 0:\n",
    "        median = (arr[n // 2 - 1] + arr[n // 2])\n",
    "    else:\n",
    "        median = arr[n // 2]\n",
    "        return (arr.sort(), median)\n",
    "        \n",
    "find_median([1,2,3,4,5,6,7,8,8,3,9,7,3], 13)      "
   ]
  },
  {
   "cell_type": "code",
   "execution_count": 34,
   "id": "4ebd572c",
   "metadata": {},
   "outputs": [
    {
     "data": {
      "text/plain": [
       "0"
      ]
     },
     "execution_count": 34,
     "metadata": {},
     "output_type": "execute_result"
    }
   ],
   "source": [
    "2 % 2"
   ]
  },
  {
   "cell_type": "code",
   "execution_count": 26,
   "id": "3b74c0d3",
   "metadata": {},
   "outputs": [
    {
     "name": "stdout",
     "output_type": "stream",
     "text": [
      "None\n"
     ]
    }
   ],
   "source": [
    "print([1,2,3,4,5,6,7,8,8,3,9,7,3].sort())"
   ]
  },
  {
   "cell_type": "code",
   "execution_count": 27,
   "id": "3a313d87",
   "metadata": {},
   "outputs": [
    {
     "data": {
      "text/plain": [
       "3"
      ]
     },
     "execution_count": 27,
     "metadata": {},
     "output_type": "execute_result"
    }
   ],
   "source": [
    "def find_mode(arr, n):\n",
    "    freq = dict()\n",
    "    for i in range(n):\n",
    "        if arr[i] in freq:\n",
    "            freq[arr[i]] += 1\n",
    "        else:\n",
    "            freq[arr[i]] = 1\n",
    "    mode = max(freq, key=freq.get)\n",
    "    return mode\n",
    "\n",
    "find_mode([1,2,3,4,5,6,7,8,8,3,9,7,3], 13)"
   ]
  },
  {
   "cell_type": "code",
   "execution_count": 32,
   "id": "50fcff04",
   "metadata": {},
   "outputs": [
    {
     "data": {
      "text/plain": [
       "[1, 3, 3, 7, 5, 9, 7, 8, -8, -3, -6, -4, -2]"
      ]
     },
     "execution_count": 32,
     "metadata": {},
     "output_type": "execute_result"
    }
   ],
   "source": [
    "def cluster_pos_and_neg(arr):\n",
    "    n = len(arr)\n",
    "    left, right = 0, n-1\n",
    "    while left < right:\n",
    "        while arr[left] >= 0 and left < right:\n",
    "            left += 1\n",
    "        while arr[right] <= 0 and left < right:\n",
    "            right -= 1\n",
    "        if left < right:\n",
    "            arr[left], arr[right] = arr[right], arr[left]\n",
    "            left += 1\n",
    "            right -= 1\n",
    "            \n",
    "    return arr\n",
    "\n",
    "cluster_pos_and_neg([1,-2,3,-4,5,-6,7,-8,8,-3,9,7,3])"
   ]
  },
  {
   "cell_type": "code",
   "execution_count": 41,
   "id": "2616b6e0",
   "metadata": {},
   "outputs": [
    {
     "ename": "TypeError",
     "evalue": "'builtin_function_or_method' object is not subscriptable",
     "output_type": "error",
     "traceback": [
      "\u001b[31m---------------------------------------------------------------------------\u001b[39m",
      "\u001b[31mTypeError\u001b[39m                                 Traceback (most recent call last)",
      "\u001b[36mCell\u001b[39m\u001b[36m \u001b[39m\u001b[32mIn[41]\u001b[39m\u001b[32m, line 14\u001b[39m\n\u001b[32m     10\u001b[39m                 s.add[arr[j]]\n\u001b[32m     12\u001b[39m     \u001b[38;5;28;01mreturn\u001b[39;00m s\n\u001b[32m---> \u001b[39m\u001b[32m14\u001b[39m \u001b[43mcluster_odds_and_even\u001b[49m\u001b[43m(\u001b[49m\u001b[43m[\u001b[49m\u001b[32;43m1\u001b[39;49m\u001b[43m,\u001b[49m\u001b[32;43m2\u001b[39;49m\u001b[43m,\u001b[49m\u001b[32;43m3\u001b[39;49m\u001b[43m,\u001b[49m\u001b[32;43m4\u001b[39;49m\u001b[43m,\u001b[49m\u001b[32;43m5\u001b[39;49m\u001b[43m,\u001b[49m\u001b[32;43m6\u001b[39;49m\u001b[43m,\u001b[49m\u001b[32;43m7\u001b[39;49m\u001b[43m,\u001b[49m\u001b[32;43m8\u001b[39;49m\u001b[43m,\u001b[49m\u001b[32;43m8\u001b[39;49m\u001b[43m,\u001b[49m\u001b[32;43m3\u001b[39;49m\u001b[43m,\u001b[49m\u001b[32;43m9\u001b[39;49m\u001b[43m,\u001b[49m\u001b[32;43m7\u001b[39;49m\u001b[43m,\u001b[49m\u001b[32;43m3\u001b[39;49m\u001b[43m]\u001b[49m\u001b[43m)\u001b[49m\n",
      "\u001b[36mCell\u001b[39m\u001b[36m \u001b[39m\u001b[32mIn[41]\u001b[39m\u001b[32m, line 10\u001b[39m, in \u001b[36mcluster_odds_and_even\u001b[39m\u001b[34m(arr)\u001b[39m\n\u001b[32m      8\u001b[39m             \u001b[38;5;66;03m# s.add(arr[j])\u001b[39;00m\n\u001b[32m      9\u001b[39m         \u001b[38;5;28;01melif\u001b[39;00m (arr[i] // \u001b[32m2\u001b[39m > \u001b[32m0\u001b[39m) \u001b[38;5;129;01mand\u001b[39;00m (arr[j] // \u001b[32m2\u001b[39m > \u001b[32m0\u001b[39m) \u001b[38;5;129;01mand\u001b[39;00m (i != j):\n\u001b[32m---> \u001b[39m\u001b[32m10\u001b[39m             \u001b[43ms\u001b[49m\u001b[43m.\u001b[49m\u001b[43madd\u001b[49m\u001b[43m[\u001b[49m\u001b[43marr\u001b[49m\u001b[43m[\u001b[49m\u001b[43mj\u001b[49m\u001b[43m]\u001b[49m\u001b[43m]\u001b[49m\n\u001b[32m     12\u001b[39m \u001b[38;5;28;01mreturn\u001b[39;00m s\n",
      "\u001b[31mTypeError\u001b[39m: 'builtin_function_or_method' object is not subscriptable"
     ]
    }
   ],
   "source": [
    "def cluster_odds_and_even(arr):\n",
    "    # left, right = 0, n-1\n",
    "    s = set()\n",
    "    for i in range(len(arr)):\n",
    "        for j in range(len(arr)):\n",
    "            if (arr[i] % 2 == 0) and (arr[j] % 2 != 0) and (i != j):\n",
    "                s.add(arr[j])\n",
    "                # s.add(arr[j])\n",
    "            elif (arr[i] // 2 > 0) and (arr[j] // 2 > 0) and (i != j):\n",
    "                s.add[arr[j]]\n",
    "                \n",
    "    return s\n",
    "\n",
    "cluster_odds_and_even([1,2,3,4,5,6,7,8,8,3,9,7,3])"
   ]
  },
  {
   "cell_type": "code",
   "execution_count": 44,
   "id": "03787e4a",
   "metadata": {},
   "outputs": [
    {
     "data": {
      "text/plain": [
       "([2, 4, 6, 8, 8, 1, 3, 5, 7, 3, 9, 7, 3],\n",
       " [1, 2, 3, 4, 5, 6, 7, 8, 8, 3, 9, 7, 3])"
      ]
     },
     "execution_count": 44,
     "metadata": {},
     "output_type": "execute_result"
    }
   ],
   "source": [
    "def cluster_odds_and_even(arr):\n",
    "    even = []\n",
    "    odd = []\n",
    "    all_num = []\n",
    "    for num in arr:\n",
    "        if num % 2 == 0:\n",
    "            even.append(num)\n",
    "            all_num.append(num)\n",
    "        else:\n",
    "            odd.append(num)\n",
    "            all_num.append(num)\n",
    "            \n",
    "    return even + odd, all_num\n",
    "\n",
    "cluster_odds_and_even([1,2,3,4,5,6,7,8,8,3,9,7,3])"
   ]
  },
  {
   "cell_type": "code",
   "execution_count": 48,
   "id": "73249b97",
   "metadata": {},
   "outputs": [
    {
     "data": {
      "text/plain": [
       "[8, 3, 7]"
      ]
     },
     "execution_count": 48,
     "metadata": {},
     "output_type": "execute_result"
    }
   ],
   "source": [
    "def repeated_elements(arr):\n",
    "    seen = set()\n",
    "    repeated = set()\n",
    "    for i in range(len(arr)):\n",
    "        if arr[i] in seen:\n",
    "            repeated.add(arr[i])\n",
    "        else:\n",
    "            seen.add(arr[i])\n",
    "    return list(repeated)\n",
    "\n",
    "repeated_elements([1,2,3,4,5,6,7,8,8,3,9,7,3])"
   ]
  },
  {
   "cell_type": "code",
   "execution_count": null,
   "id": "759de17e",
   "metadata": {},
   "outputs": [
    {
     "data": {
      "text/plain": [
       "['This is a',\n",
       " 'sample',\n",
       " 'text that',\n",
       " 'will be',\n",
       " 'split into',\n",
       " 'chunks',\n",
       " 'based on',\n",
       " 'the',\n",
       " 'maximum',\n",
       " 'number of',\n",
       " 'words',\n",
       " 'allowed in',\n",
       " 'each',\n",
       " 'chunk.']"
      ]
     },
     "execution_count": 49,
     "metadata": {},
     "output_type": "execute_result"
    }
   ],
   "source": [
    "def split_text_into_words(text, chunk_max_words):\n",
    "    words = text.split()\n",
    "    chunks = []\n",
    "    current_chunk = []\n",
    "    current_length = 0\n",
    "    \n",
    "    for word in words:\n",
    "        if current_length + len(word) + (1 if current_chunk else 0) <= chunk_max_words:\n",
    "            current_chunk.append(word)\n",
    "            current_length += len(word) + (1 if current_chunk else 0)\n",
    "        else:\n",
    "            chunks.append(' '.join(current_chunk))\n",
    "            current_chunk = [word]\n",
    "            current_length = len(word)\n",
    "    \n",
    "    if current_chunk:\n",
    "        chunks.append(' '.join(current_chunk))\n",
    "    \n",
    "    return chunks\n",
    "\n",
    "text = \"This is a sample text that will be split into chunks based on the maximum number of words allowed in each chunk.\"\n",
    "chunk_max_words = 10\n",
    "split_text_into_words(text, chunk_max_words)"
   ]
  },
  {
   "cell_type": "code",
   "execution_count": 53,
   "id": "2408143a",
   "metadata": {},
   "outputs": [
    {
     "data": {
      "text/plain": [
       "['Lorem ipsum dolor sit amet consectetur adipiscing elit. Quisque faucibus ex sapien vitae pellentesque sem placerat. In id cursus mi pretium tellus duis convallis. Tempus leo eu aenean sed diam urna tempor. Pulvinar vivamus fringilla lacus nec metus bibendum egestas. Iaculis massa nisl malesuada lacinia integer nunc posuere. Ut hendrerit semper vel class aptent taciti sociosqu. Ad litora torquent per conubia nostra inceptos himenaeos. Lorem ipsum dolor sit amet consectetur adipiscing elit. Quisque faucibus ex sapien vitae pellentesque sem placerat. In id cursus mi pretium tellus duis convallis. Tempus leo eu aenean sed diam urna tempor.',\n",
       " 'Pulvinar vivamus fringilla lacus nec metus bibendum egestas. Iaculis massa nisl malesuada lacinia integer nunc posuere. Ut hendrerit semper vel class aptent taciti sociosqu. Ad litora torquent per conubia nostra inceptos himenaeos. Lorem ipsum dolor sit amet consectetur adipiscing elit. Quisque faucibus ex sapien vitae pellentesque sem placerat. In id cursus mi pretium tellus duis convallis. Tempus leo eu aenean sed diam urna tempor. Pulvinar vivamus fringilla lacus nec metus bibendum egestas. Iaculis massa nisl malesuada lacinia integer nunc posuere. Ut hendrerit semper vel class aptent taciti sociosqu. Ad litora torquent per conubia nostra inceptos himenaeos.',\n",
       " 'Lorem ipsum dolor sit amet consectetur adipiscing elit. Quisque faucibus ex sapien vitae pellentesque sem placerat. In id cursus mi pretium tellus duis convallis. Tempus leo eu aenean sed diam urna tempor. Pulvinar vivamus fringilla lacus nec metus bibendum egestas. Iaculis massa nisl malesuada lacinia integer nunc posuere. Ut hendrerit semper vel class aptent taciti sociosqu. Ad litora torquent per conubia nostra inceptos himenaeos.']"
      ]
     },
     "execution_count": 53,
     "metadata": {},
     "output_type": "execute_result"
    }
   ],
   "source": [
    "def split_text_into_chunks(text, max_words):\n",
    "    \"\"\"Splits text into chunks with a maximum number of words, ensuring sentences are not broken.\"\"\"\n",
    "    sentences = [s.strip() for s in text.split('.') if s.strip()]\n",
    "    chunks = []\n",
    "    current_chunk = []\n",
    "    current_word_count = 0\n",
    "    \n",
    "    for sentence in sentences:\n",
    "        sentence_word_count = len(sentence.split())\n",
    "        if current_word_count + sentence_word_count <= max_words:\n",
    "            current_chunk.append(sentence)\n",
    "            current_word_count += sentence_word_count\n",
    "        else:\n",
    "            if current_chunk:\n",
    "                chunks.append('. '.join(current_chunk) + '.')\n",
    "            current_chunk = [sentence]\n",
    "            current_word_count = sentence_word_count\n",
    "    if current_chunk:\n",
    "        chunks.append('. '.join(current_chunk) + '.')\n",
    "        \n",
    "    return chunks\n",
    "\n",
    "text = \"\"\"Lorem ipsum dolor sit amet consectetur adipiscing elit. Quisque faucibus ex sapien vitae pellentesque sem placerat. In id cursus mi pretium tellus duis convallis. Tempus leo eu aenean sed diam urna tempor. Pulvinar vivamus fringilla lacus nec metus bibendum egestas. Iaculis massa nisl malesuada lacinia integer nunc posuere. Ut hendrerit semper vel class aptent taciti sociosqu. Ad litora torquent per conubia nostra inceptos himenaeos.\n",
    "    Lorem ipsum dolor sit amet consectetur adipiscing elit. Quisque faucibus ex sapien vitae pellentesque sem placerat. In id cursus mi pretium tellus duis convallis. Tempus leo eu aenean sed diam urna tempor. Pulvinar vivamus fringilla lacus nec metus bibendum egestas. Iaculis massa nisl malesuada lacinia integer nunc posuere. Ut hendrerit semper vel class aptent taciti sociosqu. Ad litora torquent per conubia nostra inceptos himenaeos.\n",
    "    Lorem ipsum dolor sit amet consectetur adipiscing elit. Quisque faucibus ex sapien vitae pellentesque sem placerat. In id cursus mi pretium tellus duis convallis. Tempus leo eu aenean sed diam urna tempor. Pulvinar vivamus fringilla lacus nec metus bibendum egestas. Iaculis massa nisl malesuada lacinia integer nunc posuere. Ut hendrerit semper vel class aptent taciti sociosqu. Ad litora torquent per conubia nostra inceptos himenaeos.\n",
    "    Lorem ipsum dolor sit amet consectetur adipiscing elit. Quisque faucibus ex sapien vitae pellentesque sem placerat. In id cursus mi pretium tellus duis convallis. Tempus leo eu aenean sed diam urna tempor. Pulvinar vivamus fringilla lacus nec metus bibendum egestas. Iaculis massa nisl malesuada lacinia integer nunc posuere. Ut hendrerit semper vel class aptent taciti sociosqu. Ad litora torquent per conubia nostra inceptos himenaeos.\"\"\"\n",
    "max_words = 10\n",
    "split_text_into_chunks(text, 100)"
   ]
  },
  {
   "cell_type": "code",
   "execution_count": 51,
   "id": "f986b182",
   "metadata": {},
   "outputs": [
    {
     "name": "stdout",
     "output_type": "stream",
     "text": [
      "\n",
      "--- Chunk 1 (96 words) ---\n",
      "\n",
      "Lorem ipsum dolor sit amet consectetur adipiscing elit. Quisque faucibus ex sapien vitae pellentesque sem placerat. In id cursus mi pretium tellus duis convallis. Tempus leo eu aenean sed diam urna tempor. Pulvinar vivamus fringilla lacus nec metus bibendum egestas. Iaculis massa nisl malesuada lacinia integer nunc posuere. Ut hendrerit semper vel class aptent taciti sociosqu. Ad litora torquent per conubia nostra inceptos himenaeos. Lorem ipsum dolor sit amet consectetur adipiscing elit. Quisque faucibus ex sapien vitae pellentesque sem placerat. In id cursus mi pretium tellus duis convallis. Tempus leo eu aenean sed diam urna tempor.\n",
      "\n",
      "--- Chunk 2 (96 words) ---\n",
      "\n",
      "Pulvinar vivamus fringilla lacus nec metus bibendum egestas. Iaculis massa nisl malesuada lacinia integer nunc posuere. Ut hendrerit semper vel class aptent taciti sociosqu. Ad litora torquent per conubia nostra inceptos himenaeos. Lorem ipsum dolor sit amet consectetur adipiscing elit. Quisque faucibus ex sapien vitae pellentesque sem placerat. In id cursus mi pretium tellus duis convallis. Tempus leo eu aenean sed diam urna tempor. Pulvinar vivamus fringilla lacus nec metus bibendum egestas. Iaculis massa nisl malesuada lacinia integer nunc posuere. Ut hendrerit semper vel class aptent taciti sociosqu. Ad litora torquent per conubia nostra inceptos himenaeos.\n",
      "\n",
      "--- Chunk 3 (64 words) ---\n",
      "\n",
      "Lorem ipsum dolor sit amet consectetur adipiscing elit. Quisque faucibus ex sapien vitae pellentesque sem placerat. In id cursus mi pretium tellus duis convallis. Tempus leo eu aenean sed diam urna tempor. Pulvinar vivamus fringilla lacus nec metus bibendum egestas. Iaculis massa nisl malesuada lacinia integer nunc posuere. Ut hendrerit semper vel class aptent taciti sociosqu. Ad litora torquent per conubia nostra inceptos himenaeos.\n"
     ]
    }
   ],
   "source": [
    "def split_text_into_chunks(text, max_words):\n",
    "    # Split text into sentences by full stop (keeping the dot)\n",
    "    sentences = [s.strip() + '.' for s in text.split('.') if s.strip()]\n",
    "    chunks = []\n",
    "    current_chunk = []\n",
    "    current_word_count = 0\n",
    "\n",
    "    for sentence in sentences:\n",
    "        words_in_sentence = len(sentence.split())\n",
    "        # If adding this sentence exceeds the limit\n",
    "        if current_word_count + words_in_sentence > max_words:\n",
    "            # Save the current chunk\n",
    "            chunks.append(\" \".join(current_chunk).strip())\n",
    "            # Start a new chunk\n",
    "            current_chunk = [sentence]\n",
    "            current_word_count = words_in_sentence\n",
    "        else:\n",
    "            # Add sentence to current chunk\n",
    "            current_chunk.append(sentence)\n",
    "            current_word_count += words_in_sentence\n",
    "    # Add the last chunk if not empty\n",
    "    if current_chunk:\n",
    "        chunks.append(\" \".join(current_chunk).strip())\n",
    "\n",
    "    return chunks\n",
    "\n",
    "\n",
    "# Example usage\n",
    "if __name__ == \"__main__\":\n",
    "    sample_text = \"\"\"Lorem ipsum dolor sit amet consectetur adipiscing elit. Quisque faucibus ex sapien vitae pellentesque sem placerat. In id cursus mi pretium tellus duis convallis. Tempus leo eu aenean sed diam urna tempor. Pulvinar vivamus fringilla lacus nec metus bibendum egestas. Iaculis massa nisl malesuada lacinia integer nunc posuere. Ut hendrerit semper vel class aptent taciti sociosqu. Ad litora torquent per conubia nostra inceptos himenaeos.\n",
    "    Lorem ipsum dolor sit amet consectetur adipiscing elit. Quisque faucibus ex sapien vitae pellentesque sem placerat. In id cursus mi pretium tellus duis convallis. Tempus leo eu aenean sed diam urna tempor. Pulvinar vivamus fringilla lacus nec metus bibendum egestas. Iaculis massa nisl malesuada lacinia integer nunc posuere. Ut hendrerit semper vel class aptent taciti sociosqu. Ad litora torquent per conubia nostra inceptos himenaeos.\n",
    "    Lorem ipsum dolor sit amet consectetur adipiscing elit. Quisque faucibus ex sapien vitae pellentesque sem placerat. In id cursus mi pretium tellus duis convallis. Tempus leo eu aenean sed diam urna tempor. Pulvinar vivamus fringilla lacus nec metus bibendum egestas. Iaculis massa nisl malesuada lacinia integer nunc posuere. Ut hendrerit semper vel class aptent taciti sociosqu. Ad litora torquent per conubia nostra inceptos himenaeos.\n",
    "    Lorem ipsum dolor sit amet consectetur adipiscing elit. Quisque faucibus ex sapien vitae pellentesque sem placerat. In id cursus mi pretium tellus duis convallis. Tempus leo eu aenean sed diam urna tempor. Pulvinar vivamus fringilla lacus nec metus bibendum egestas. Iaculis massa nisl malesuada lacinia integer nunc posuere. Ut hendrerit semper vel class aptent taciti sociosqu. Ad litora torquent per conubia nostra inceptos himenaeos.\"\"\"\n",
    "    \n",
    "    chunks = split_text_into_chunks(sample_text, max_words=100)\n",
    "    \n",
    "    for i, chunk in enumerate(chunks, 1):\n",
    "        print(f\"\\n--- Chunk {i} ({len(chunk.split())} words) ---\\n\")\n",
    "        print(chunk)"
   ]
  },
  {
   "cell_type": "code",
   "execution_count": 52,
   "id": "e025ce2c",
   "metadata": {},
   "outputs": [
    {
     "data": {
      "text/plain": [
       "['Lorem ipsum dolor sit amet consectetur adipiscing elit. Quisque faucibus ex sapien vitae pellentesque sem placerat. In id cursus mi pretium tellus duis convallis. Tempus leo eu aenean sed diam urna tempor. Pulvinar vivamus fringilla lacus nec metus bibendum egestas. Iaculis massa nisl malesuada lacinia integer nunc posuere. Ut hendrerit semper vel class aptent taciti sociosqu. Ad litora torquent per conubia nostra inceptos himenaeos. Lorem ipsum dolor sit amet consectetur adipiscing elit. Quisque faucibus ex sapien vitae pellentesque sem placerat. In id cursus mi pretium tellus duis convallis. Tempus leo eu aenean sed diam urna tempor.',\n",
       " 'Pulvinar vivamus fringilla lacus nec metus bibendum egestas. Iaculis massa nisl malesuada lacinia integer nunc posuere. Ut hendrerit semper vel class aptent taciti sociosqu. Ad litora torquent per conubia nostra inceptos himenaeos. Lorem ipsum dolor sit amet consectetur adipiscing elit. Quisque faucibus ex sapien vitae pellentesque sem placerat. In id cursus mi pretium tellus duis convallis. Tempus leo eu aenean sed diam urna tempor. Pulvinar vivamus fringilla lacus nec metus bibendum egestas. Iaculis massa nisl malesuada lacinia integer nunc posuere. Ut hendrerit semper vel class aptent taciti sociosqu. Ad litora torquent per conubia nostra inceptos himenaeos.',\n",
       " 'Lorem ipsum dolor sit amet consectetur adipiscing elit. Quisque faucibus ex sapien vitae pellentesque sem placerat. In id cursus mi pretium tellus duis convallis. Tempus leo eu aenean sed diam urna tempor. Pulvinar vivamus fringilla lacus nec metus bibendum egestas. Iaculis massa nisl malesuada lacinia integer nunc posuere. Ut hendrerit semper vel class aptent taciti sociosqu. Ad litora torquent per conubia nostra inceptos himenaeos.']"
      ]
     },
     "execution_count": 52,
     "metadata": {},
     "output_type": "execute_result"
    }
   ],
   "source": [
    "split_text_into_chunks(text, max_words=100)"
   ]
  },
  {
   "cell_type": "code",
   "execution_count": 9,
   "id": "8903289f",
   "metadata": {},
   "outputs": [
    {
     "data": {
      "text/plain": [
       "'07:70'"
      ]
     },
     "execution_count": 9,
     "metadata": {},
     "output_type": "execute_result"
    }
   ],
   "source": [
    "def reverse_hour_minutes(num):\n",
    "    if num == 0:\n",
    "        reversed = f\"{num}:{num}\"\n",
    "        return reversed\n",
    "    \n",
    "    # checkup_list = [6,7,8,9,16,17,18,19]\n",
    "    for i in range(1, 24):\n",
    "        reversed = str(num)[::-1]\n",
    "        reversed_num = int(reversed)\n",
    "        if len(reversed) == 1 and reversed_num <= 55:\n",
    "            reversed_result = f\"{\"0\" + str(num)}:{str(reversed_num) + \"0\"}\"\n",
    "            return reversed_result\n",
    "        elif reversed_num <= 55:\n",
    "            reversed_result = f\"{num}:{reversed_num}\"\n",
    "            \n",
    "    return reversed_result\n",
    "\n",
    "reverse_hour_minutes(7)"
   ]
  },
  {
   "cell_type": "code",
   "execution_count": 13,
   "id": "52a7e7dd",
   "metadata": {},
   "outputs": [
    {
     "data": {
      "text/plain": [
       "'24:42'"
      ]
     },
     "execution_count": 13,
     "metadata": {},
     "output_type": "execute_result"
    }
   ],
   "source": [
    "def reverse_hour_minutes(num: int) -> str:\n",
    "    if num == 0:\n",
    "        return \"00:00\"\n",
    "    # Reverse digits\n",
    "    reversed_str = str(num)[::-1]\n",
    "    reversed_num = int(reversed_str)\n",
    "    # Single-digit hour (e.g. 7 -> \"07:70\")\n",
    "    if len(str(num)) == 1 and reversed_num <= 55:\n",
    "        return f\"{num:02d}:{str(reversed_num) + \"0\"}\"\n",
    "    # Multi-digit hour (e.g. 12 -> \"12:21\")\n",
    "    if reversed_num <= 55:\n",
    "        return f\"{num:02d}:{reversed_num}\"\n",
    "\n",
    "    # If invalid minutes\n",
    "    return f\"{num:02d}:00\"\n",
    "\n",
    "reverse_hour_minutes(24)"
   ]
  },
  {
   "cell_type": "code",
   "execution_count": null,
   "id": "042377df",
   "metadata": {},
   "outputs": [],
   "source": []
  }
 ],
 "metadata": {
  "kernelspec": {
   "display_name": "venv",
   "language": "python",
   "name": "python3"
  },
  "language_info": {
   "codemirror_mode": {
    "name": "ipython",
    "version": 3
   },
   "file_extension": ".py",
   "mimetype": "text/x-python",
   "name": "python",
   "nbconvert_exporter": "python",
   "pygments_lexer": "ipython3",
   "version": "3.13.5"
  }
 },
 "nbformat": 4,
 "nbformat_minor": 5
}
