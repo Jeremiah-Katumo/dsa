{
 "cells": [
  {
   "cell_type": "code",
   "execution_count": null,
   "id": "86fc4146",
   "metadata": {},
   "outputs": [],
   "source": [
    "def push(stack, item, max, top):\n",
    "    if top == max - 1:\n",
    "        print(\"Stack Overflow\")\n",
    "        return top\n",
    "    else:\n",
    "        top = top + 1\n",
    "        stack[top] = item   # stack.append(item)\n",
    "        return top\n",
    "    \n",
    "def pop(stack, top):\n",
    "    if top == -1:\n",
    "        print(\"Stack Underflow\")\n",
    "        return None, top\n",
    "    else:\n",
    "        item = stack[top]  # stack.pop()\n",
    "        top = top - 1\n",
    "        return item, top\n",
    "    \n",
    "def peek(stack, top):\n",
    "    if top == -1:\n",
    "        print(\"Stack is empty\")\n",
    "        return None\n",
    "    else:\n",
    "        item = stack[top]\n",
    "        return item"
   ]
  },
  {
   "cell_type": "code",
   "execution_count": null,
   "id": "5017e9df",
   "metadata": {},
   "outputs": [],
   "source": [
    "class StackNode:\n",
    "    def __init__(self):\n",
    "        self.top = -1\n",
    "        self.stack = []\n",
    "        self.max = 10\n",
    "        \n",
    "    def push(self, item):\n",
    "        top = self.top\n",
    "        stack = self.stack\n",
    "        max = self.max\n",
    "        if top == max - 1:\n",
    "            print(\"Overflow\")\n",
    "            return\n",
    "        else:\n",
    "            top += 1\n",
    "            stack[top] = item   # stack.append(item)\n",
    "            return top\n",
    "        \n",
    "    def pop(self):\n",
    "        top = self.top\n",
    "        if top == -1:\n",
    "            print(\"Underlow\")\n",
    "            return\n",
    "        else:\n",
    "            stack = self.stack\n",
    "            temp = stack[top]\n",
    "            top -= 1\n",
    "            del stack[-1]\n",
    "            return (temp, top)\n",
    "        \n",
    "    def display(self):\n",
    "        top = self.top\n",
    "        stack = self.stack\n",
    "        for i in range(top + 1):\n",
    "            print(stack[i], end=' ')\n",
    "            \n",
    "    def is_overflow(self):\n",
    "        max = self.max\n",
    "        top = self.top\n",
    "        if top == max - 1:\n",
    "            return True\n",
    "        else:\n",
    "            return False\n",
    "        \n",
    "    def is_underflow(self):\n",
    "        top = self.top\n",
    "        if top == -1:\n",
    "            return True\n",
    "        else:\n",
    "            return False  "
   ]
  },
  {
   "cell_type": "code",
   "execution_count": null,
   "id": "6da98425",
   "metadata": {},
   "outputs": [],
   "source": [
    "def push1(top1, top2, item, stack):\n",
    "    if top1 + 1 == top2:\n",
    "        print(\"Stack 1 overflow\")\n",
    "        return top1\n",
    "    else:\n",
    "        top1 += 1\n",
    "        stack.append(item)   # stack[top1] = item\n",
    "        print(f\"Pushed {item} to stack 1\")\n",
    "        return top1\n",
    "    \n",
    "def push2(top2, top1, item, stack):\n",
    "    if top2 - 1 == top1:\n",
    "        print(\"Stack 2 overflow\")\n",
    "        return top2\n",
    "    else:\n",
    "        top2 -= 1\n",
    "        stack[top2] = item\n",
    "        print(f\"Pushed {item} in stack 2\")\n",
    "        return top2\n",
    "    \n",
    "def pop1(top1, stack):\n",
    "    if top1 == -1:\n",
    "        print(\"Stack 1 underflow\")\n",
    "        return top1, None\n",
    "    item = stack[top1]\n",
    "    stack[top1] = None\n",
    "    top1 -= 1\n",
    "    return top1, item\n",
    "\n",
    "def pop2(top2, stack):\n",
    "    if top2 == len(stack):\n",
    "        print(\"Stack 2 underflow\")\n",
    "        return top2, None\n",
    "    item = stack[top2]\n",
    "    stack[top2] = None\n",
    "    top2 += 1\n",
    "    return top2, item"
   ]
  },
  {
   "cell_type": "code",
   "execution_count": null,
   "id": "0e636993",
   "metadata": {},
   "outputs": [],
   "source": [
    "class TwoStacks:\n",
    "    def __init__(self, size):\n",
    "        self.size = size\n",
    "        self.stack = [None] * size\n",
    "        self.top1 = -1\n",
    "        self.top2 = size\n",
    "        \n",
    "    def push1(self, item):\n",
    "        if self.top1 + 1 == self.top2:\n",
    "            print(\"Stack 1 Overflow\")\n",
    "            return self.top1\n",
    "        else:\n",
    "            top1 = self.top1\n",
    "            top1 += 1\n",
    "            self.stack[top1] = item    # self.stack.append(item)\n",
    "            print(f\"Pushed {item} to stack 1\")\n",
    "            \n",
    "    def push2(self, item):\n",
    "        if self.push2 - 1 == self.push1:\n",
    "            print(\"Stack 2 overflow\")\n",
    "            return self.top1\n",
    "        else:\n",
    "            top1 = self.top1\n",
    "            top1 -= 1\n",
    "            self.stack.append(item)\n",
    "            print(f\"Pushed {item} to stack 2\")\n",
    "            \n",
    "    def pop1(self):\n",
    "        if self.top1 == -1:\n",
    "            print(\"Stack 1 underflow\")\n",
    "            return self.top1, None\n",
    "        item = self.stack[self.top1]\n",
    "        self.stack[self.top1] = None\n",
    "        self.top1 -= 1\n",
    "        return self.top1, item\n",
    "    \n",
    "    def pop2(self, item):\n",
    "        if self.top2 == self.size:\n",
    "            print(\"Stack 2 Underflow\")\n",
    "            return self.top2, None\n",
    "        item = self.stack[self.top2]\n",
    "        self.stack[self.top2] = None\n",
    "        self.top2 += 1\n",
    "        return self.top2, item"
   ]
  },
  {
   "cell_type": "markdown",
   "id": "f6b9c1fc",
   "metadata": {},
   "source": [
    "#### Evaluation of **Postfix**\n",
    "\n",
    "**Algorithm (Postfix Evaluation)**:\n",
    "\n",
    "1. Given an expression like 5 6 2 + * 12 4 / -\n",
    "\n",
    "2. Create an empty stack.\n",
    "\n",
    "3. Scan the expression from left to right.\n",
    "\n",
    "4. If the token is:\n",
    "\n",
    "    a. Operand: Push it to stack.\n",
    "\n",
    "    b. Operator: Pop two operands from stack, apply the operator, and push result back.\n",
    "\n",
    "5. After scanning, the result on the top of stack is the answer."
   ]
  },
  {
   "cell_type": "code",
   "execution_count": 1,
   "id": "44830e3f",
   "metadata": {},
   "outputs": [],
   "source": [
    "import re\n",
    "\n",
    "def is_digit(token):\n",
    "    return re.match(r'^-?\\d+(\\.\\d+)?$', token) is not None\n",
    "\n",
    "def is_operand(token):\n",
    "    return is_digit(token) or re.match(r'^[A-Za-z]+$', token) is not None"
   ]
  },
  {
   "cell_type": "code",
   "execution_count": 11,
   "id": "685936ab",
   "metadata": {},
   "outputs": [
    {
     "name": "stdout",
     "output_type": "stream",
     "text": [
      "37.0\n"
     ]
    }
   ],
   "source": [
    "def evaluate_postfix(expression):\n",
    "    stack = []\n",
    "    for token in expression.split():\n",
    "        if is_digit(token):\n",
    "            stack.append(int(token))\n",
    "        else:\n",
    "            b = stack.pop()\n",
    "            a = stack.pop()\n",
    "            if token == \"+\": stack.append(a + b)\n",
    "            elif token == \"-\": stack.append(a - b)\n",
    "            elif token == \"*\": stack.append(a * b)\n",
    "            elif token == \"/\": stack.append(a / b)\n",
    "            elif token == \"^\": stack.append(a ** b)\n",
    "            \n",
    "    return stack.pop()\n",
    "\n",
    "expr = \"5 6 2 + * 12 4 / -\"\n",
    "print(evaluate_postfix(expr)) # output is 37"
   ]
  },
  {
   "cell_type": "markdown",
   "id": "7c357788",
   "metadata": {},
   "source": [
    "#### Evaluation of **Prefix**\n",
    "\n",
    "Algorithm:\n",
    "\n",
    "1. Create an empty stack.\n",
    "\n",
    "2. Scan the expression from right to left.\n",
    "\n",
    "3. If the token is an operand, push it to the stack.\n",
    "\n",
    "4. If the token is an operator, pop two operands:\n",
    "\n",
    "    a. First popped → a\n",
    "\n",
    "    b. Second popped → b\n",
    "\n",
    "5. Compute a operator b, push result back.\n",
    "\n",
    "6. At the end, top of the stack = result."
   ]
  },
  {
   "cell_type": "code",
   "execution_count": 12,
   "id": "561bb618",
   "metadata": {},
   "outputs": [
    {
     "ename": "IndexError",
     "evalue": "pop from empty list",
     "output_type": "error",
     "traceback": [
      "\u001b[31m---------------------------------------------------------------------------\u001b[39m",
      "\u001b[31mIndexError\u001b[39m                                Traceback (most recent call last)",
      "\u001b[36mCell\u001b[39m\u001b[36m \u001b[39m\u001b[32mIn[12]\u001b[39m\u001b[32m, line 18\u001b[39m\n\u001b[32m     15\u001b[39m     \u001b[38;5;28;01mreturn\u001b[39;00m stack.pop()\n\u001b[32m     17\u001b[39m expr = \u001b[33m\"\u001b[39m\u001b[33m- * 5 + 6 2 / 12 4\u001b[39m\u001b[33m\"\u001b[39m\n\u001b[32m---> \u001b[39m\u001b[32m18\u001b[39m \u001b[38;5;28mprint\u001b[39m(\u001b[33m\"\u001b[39m\u001b[33mPrefix Evaluation:\u001b[39m\u001b[33m\"\u001b[39m, \u001b[43mevaluate_prefix\u001b[49m\u001b[43m(\u001b[49m\u001b[43mexpr\u001b[49m\u001b[43m)\u001b[49m)\n",
      "\u001b[36mCell\u001b[39m\u001b[36m \u001b[39m\u001b[32mIn[12]\u001b[39m\u001b[32m, line 7\u001b[39m, in \u001b[36mevaluate_prefix\u001b[39m\u001b[34m(expression)\u001b[39m\n\u001b[32m      5\u001b[39m     stack.append(\u001b[38;5;28mint\u001b[39m(token))\n\u001b[32m      6\u001b[39m \u001b[38;5;28;01melse\u001b[39;00m:\n\u001b[32m----> \u001b[39m\u001b[32m7\u001b[39m     a = \u001b[43mstack\u001b[49m\u001b[43m.\u001b[49m\u001b[43mpop\u001b[49m\u001b[43m(\u001b[49m\u001b[43m)\u001b[49m\n\u001b[32m      8\u001b[39m     b = stack.pop()\n\u001b[32m      9\u001b[39m     \u001b[38;5;28;01mif\u001b[39;00m token == \u001b[33m\"\u001b[39m\u001b[33m+\u001b[39m\u001b[33m\"\u001b[39m: stack.append(a + b)\n",
      "\u001b[31mIndexError\u001b[39m: pop from empty list"
     ]
    }
   ],
   "source": [
    "def evaluate_prefix(expression):\n",
    "    stack = []\n",
    "    for token in expression.split():\n",
    "        if is_digit(token):\n",
    "            stack.append(int(token))\n",
    "        else:\n",
    "            a = stack.pop()\n",
    "            b = stack.pop()\n",
    "            if token == \"+\": stack.append(a + b)\n",
    "            elif token == \"-\": stack.append(a - b)\n",
    "            elif token == \"*\": stack.append(a * b)\n",
    "            elif token == \"/\": stack.append(a / b)\n",
    "            elif token == \"^\": stack.append(a ^ b)\n",
    "            \n",
    "    return stack.pop()\n",
    "\n",
    "expr = \"- * 5 + 6 2 / 12 4\"\n",
    "print(\"Prefix Evaluation:\", evaluate_prefix(expr))"
   ]
  },
  {
   "cell_type": "markdown",
   "id": "30562b6d",
   "metadata": {},
   "source": [
    "#### Evaluation of **Infix**\n",
    "\n",
    "Algorithm:\n",
    "\n",
    "1. Create two stacks:\n",
    "\n",
    "    a. values → stores numbers\n",
    "\n",
    "    b. ops → stores operators\n",
    "\n",
    "2. Scan expression left to right:\n",
    "\n",
    "    a. If token is number → push to values\n",
    "\n",
    "    b. If ( → push to ops\n",
    "\n",
    "    c. If ) → pop from both stacks until ( is found\n",
    "\n",
    "    d. If operator → while top of ops has higher or equal precedence, evaluate and push result back\n",
    "\n",
    "3. After scanning, evaluate remaining operators."
   ]
  },
  {
   "cell_type": "code",
   "execution_count": 9,
   "id": "66701a49",
   "metadata": {},
   "outputs": [
    {
     "name": "stdout",
     "output_type": "stream",
     "text": [
      "Infix Evaluation: 37.0\n"
     ]
    }
   ],
   "source": [
    "def precedence(op):\n",
    "    if op in ('+', '-'): return 1\n",
    "    if op in ('*', '/'): return 2\n",
    "    if op == \"^\": return 3\n",
    "    \n",
    "    return 0\n",
    "\n",
    "def apply_op(a, b, op):\n",
    "    if op == '+': return a + b\n",
    "    if op == '-': return a - b\n",
    "    if op == '*': return a * b\n",
    "    if op == '/': return a / b\n",
    "    if op == '^': return a ** b\n",
    "    \n",
    "def evaluate_infix(expression):\n",
    "    values = []\n",
    "    ops = []\n",
    "    i = 0\n",
    "    while i < len(expression):\n",
    "        if expression[i] == ' ':\n",
    "            i += 1\n",
    "            continue\n",
    "        elif expression[i] == '(':\n",
    "            ops.append(expression[i])\n",
    "        elif expression[i].isdigit():\n",
    "            val = 0\n",
    "            while i < len(expression) and expression[i].isdigit():\n",
    "                val = val * 10 + int(expression[i])\n",
    "                i += 1\n",
    "            values.append(val)\n",
    "            i -= 1\n",
    "        elif expression[i] == ')':\n",
    "            while ops and ops[-1] != '(':\n",
    "                b = values.pop()\n",
    "                a = values.pop()\n",
    "                values.append(apply_op(a, b, ops.pop()))\n",
    "            ops.pop()\n",
    "        else:\n",
    "            while ops and precedence(ops[-1]) >= precedence(expression[i]):\n",
    "                b = values.pop()\n",
    "                a = values.pop()\n",
    "                values.append(apply_op(a, b, ops.pop()))\n",
    "            ops.append(expression[i])\n",
    "        i += 1\n",
    "\n",
    "    while ops:\n",
    "        b = values.pop()\n",
    "        a = values.pop()\n",
    "        values.append(apply_op(a, b, ops.pop()))\n",
    "\n",
    "    return values[-1]\n",
    "\n",
    "expr = \"(5*(6+2))-(12/4)\"\n",
    "print(\"Infix Evaluation:\", evaluate_infix(expr))"
   ]
  },
  {
   "cell_type": "markdown",
   "id": "87ecb789",
   "metadata": {},
   "source": [
    "#### Infix to Postfix\n",
    "\n",
    "**Algorithm:**\n",
    "\n",
    "1. Create an empty stack and an empty result.\n",
    "\n",
    "2. Scan from left to right.\n",
    "\n",
    "3. If operand, add to result.\n",
    "\n",
    "4. If ‘(’, push to stack.\n",
    "\n",
    "5. If ‘)’, pop until ‘(’ is found.\n",
    "\n",
    "6. If operator, pop from stack to result while top has higher or equal precedence.\n",
    "\n",
    "7. After scanning, pop remaining operators."
   ]
  },
  {
   "cell_type": "code",
   "execution_count": null,
   "id": "1aa2fd8a",
   "metadata": {},
   "outputs": [
    {
     "ename": "KeyError",
     "evalue": "False",
     "output_type": "error",
     "traceback": [
      "\u001b[31m---------------------------------------------------------------------------\u001b[39m",
      "\u001b[31mKeyError\u001b[39m                                  Traceback (most recent call last)",
      "\u001b[36mCell\u001b[39m\u001b[36m \u001b[39m\u001b[32mIn[6]\u001b[39m\u001b[32m, line 25\u001b[39m\n\u001b[32m     21\u001b[39m         result.append(stack.pop())\n\u001b[32m     23\u001b[39m     \u001b[38;5;28;01mreturn\u001b[39;00m \u001b[33m'\u001b[39m\u001b[33m \u001b[39m\u001b[33m'\u001b[39m.join(result)\n\u001b[32m---> \u001b[39m\u001b[32m25\u001b[39m \u001b[38;5;28mprint\u001b[39m(\u001b[43minfix_to_postfix\u001b[49m\u001b[43m(\u001b[49m\u001b[33;43m\"\u001b[39;49m\u001b[33;43m(A+B)*C-D\u001b[39;49m\u001b[33;43m\"\u001b[39;49m\u001b[43m)\u001b[49m)  \u001b[38;5;66;03m# Output: AB+C*D-\u001b[39;00m\n",
      "\u001b[36mCell\u001b[39m\u001b[36m \u001b[39m\u001b[32mIn[6]\u001b[39m\u001b[32m, line 16\u001b[39m, in \u001b[36minfix_to_postfix\u001b[39m\u001b[34m(expression)\u001b[39m\n\u001b[32m     14\u001b[39m     stack.pop()\n\u001b[32m     15\u001b[39m \u001b[38;5;28;01melse\u001b[39;00m:\n\u001b[32m---> \u001b[39m\u001b[32m16\u001b[39m     \u001b[38;5;28;01mwhile\u001b[39;00m stack \u001b[38;5;129;01mand\u001b[39;00m stack[-\u001b[32m1\u001b[39m] != \u001b[33m\"\u001b[39m\u001b[33m(\u001b[39m\u001b[33m\"\u001b[39m \u001b[38;5;129;01mand\u001b[39;00m \u001b[43mprecedence\u001b[49m\u001b[43m[\u001b[49m\u001b[43mis_digit\u001b[49m\u001b[43m(\u001b[49m\u001b[43mchar\u001b[49m\u001b[43m)\u001b[49m\u001b[43m]\u001b[49m <= precedence[stack[-\u001b[32m1\u001b[39m]]:\n\u001b[32m     17\u001b[39m         result.append(stack.pop())\n\u001b[32m     18\u001b[39m     stack.append(char)\n",
      "\u001b[31mKeyError\u001b[39m: False"
     ]
    }
   ],
   "source": [
    "def infix_to_postfix(expression):\n",
    "    precedence = {'+': 1, \"-\": 1, \"*\": 2, \"/\": 2, \"^\": 3}\n",
    "    stack = []\n",
    "    result = []\n",
    "    \n",
    "    for char in expression:\n",
    "        if char.isalnum():\n",
    "            result.append(char)\n",
    "        if char == \"(\":\n",
    "            result.append(char)\n",
    "        elif char == \")\":\n",
    "            while stack and stack[-1] != \"(\":\n",
    "                result.append(stack.pop())\n",
    "            stack.pop()\n",
    "        else:\n",
    "            while stack and stack[-1] != \"(\" and precedence[char] <= precedence[stack[-1]]:\n",
    "                result.append(stack.pop())\n",
    "            stack.append(char)\n",
    "            \n",
    "    while stack:\n",
    "        result.append(stack.pop())\n",
    "        \n",
    "    return ' '.join(result)\n",
    "\n",
    "print(infix_to_postfix(\"(A+B)*C-D\"))  # Output: AB+C*D-"
   ]
  },
  {
   "cell_type": "markdown",
   "id": "2b48a5b5",
   "metadata": {},
   "source": [
    "#### Infix ➜ Prefix\n",
    "\n",
    "Algorithm:\n",
    "\n",
    "1. Reverse the infix expression.\n",
    "\n",
    "2. Swap ‘(’ ↔ ‘)’.\n",
    "\n",
    "3. Convert to postfix.\n",
    "\n",
    "4. Reverse the result → prefix."
   ]
  },
  {
   "cell_type": "code",
   "execution_count": 10,
   "id": "c934dc23",
   "metadata": {},
   "outputs": [
    {
     "ename": "KeyError",
     "evalue": "False",
     "output_type": "error",
     "traceback": [
      "\u001b[31m---------------------------------------------------------------------------\u001b[39m",
      "\u001b[31mKeyError\u001b[39m                                  Traceback (most recent call last)",
      "\u001b[36mCell\u001b[39m\u001b[36m \u001b[39m\u001b[32mIn[10]\u001b[39m\u001b[32m, line 13\u001b[39m\n\u001b[32m     10\u001b[39m     \u001b[38;5;28;01mreturn\u001b[39;00m postfix[::-\u001b[32m1\u001b[39m]\n\u001b[32m     12\u001b[39m expr = \u001b[33m\"\u001b[39m\u001b[33m(A+B)*(C-D)\u001b[39m\u001b[33m\"\u001b[39m\n\u001b[32m---> \u001b[39m\u001b[32m13\u001b[39m \u001b[38;5;28mprint\u001b[39m(\u001b[33m\"\u001b[39m\u001b[33mInfix to Prefix:\u001b[39m\u001b[33m\"\u001b[39m, \u001b[43minfix_to_prefix\u001b[49m\u001b[43m(\u001b[49m\u001b[43mexpr\u001b[49m\u001b[43m)\u001b[49m)\n",
      "\u001b[36mCell\u001b[39m\u001b[36m \u001b[39m\u001b[32mIn[10]\u001b[39m\u001b[32m, line 9\u001b[39m, in \u001b[36minfix_to_prefix\u001b[39m\u001b[34m(expression)\u001b[39m\n\u001b[32m      6\u001b[39m     \u001b[38;5;28;01mreturn\u001b[39;00m expr\n\u001b[32m      8\u001b[39m rev = reverse(expression)\n\u001b[32m----> \u001b[39m\u001b[32m9\u001b[39m postfix = \u001b[43minfix_to_postfix\u001b[49m\u001b[43m(\u001b[49m\u001b[43mrev\u001b[49m\u001b[43m)\u001b[49m\n\u001b[32m     10\u001b[39m \u001b[38;5;28;01mreturn\u001b[39;00m postfix[::-\u001b[32m1\u001b[39m]\n",
      "\u001b[36mCell\u001b[39m\u001b[36m \u001b[39m\u001b[32mIn[6]\u001b[39m\u001b[32m, line 16\u001b[39m, in \u001b[36minfix_to_postfix\u001b[39m\u001b[34m(expression)\u001b[39m\n\u001b[32m     14\u001b[39m     stack.pop()\n\u001b[32m     15\u001b[39m \u001b[38;5;28;01melse\u001b[39;00m:\n\u001b[32m---> \u001b[39m\u001b[32m16\u001b[39m     \u001b[38;5;28;01mwhile\u001b[39;00m stack \u001b[38;5;129;01mand\u001b[39;00m stack[-\u001b[32m1\u001b[39m] != \u001b[33m\"\u001b[39m\u001b[33m(\u001b[39m\u001b[33m\"\u001b[39m \u001b[38;5;129;01mand\u001b[39;00m \u001b[43mprecedence\u001b[49m\u001b[43m[\u001b[49m\u001b[43mis_digit\u001b[49m\u001b[43m(\u001b[49m\u001b[43mchar\u001b[49m\u001b[43m)\u001b[49m\u001b[43m]\u001b[49m <= precedence[stack[-\u001b[32m1\u001b[39m]]:\n\u001b[32m     17\u001b[39m         result.append(stack.pop())\n\u001b[32m     18\u001b[39m     stack.append(char)\n",
      "\u001b[31mKeyError\u001b[39m: False"
     ]
    }
   ],
   "source": [
    "def infix_to_prefix(expression):\n",
    "    # Helper function\n",
    "    def reverse(expr):\n",
    "        expr = expr[::-1]\n",
    "        expr = expr.replace('(', 'temp').replace(')', '(').replace('temp', ')')\n",
    "        return expr\n",
    "    \n",
    "    rev = reverse(expression)\n",
    "    postfix = infix_to_postfix(rev)\n",
    "    return postfix[::-1]\n",
    "\n",
    "expr = \"(A+B)*(C-D)\"\n",
    "print(\"Infix to Prefix:\", infix_to_prefix(expr))"
   ]
  },
  {
   "cell_type": "markdown",
   "id": "65a3a9ef",
   "metadata": {},
   "source": [
    "#### Postfix ➜ Infix\n",
    "\n",
    "Algorithm:\n",
    "\n",
    "1. Create an empty stack.\n",
    "\n",
    "2. For each token:\n",
    "\n",
    "    a. If operand → push to stack.\n",
    "\n",
    "    b. If operator → pop two operands b and a, combine as (a operator b) and push back.\n",
    "\n",
    "3. Final result = top of stack."
   ]
  },
  {
   "cell_type": "code",
   "execution_count": 13,
   "id": "03011d95",
   "metadata": {},
   "outputs": [
    {
     "ename": "IndexError",
     "evalue": "pop from empty list",
     "output_type": "error",
     "traceback": [
      "\u001b[31m---------------------------------------------------------------------------\u001b[39m",
      "\u001b[31mIndexError\u001b[39m                                Traceback (most recent call last)",
      "\u001b[36mCell\u001b[39m\u001b[36m \u001b[39m\u001b[32mIn[13]\u001b[39m\u001b[32m, line 13\u001b[39m\n\u001b[32m     10\u001b[39m     \u001b[38;5;28;01mreturn\u001b[39;00m stack[-\u001b[32m1\u001b[39m]\n\u001b[32m     12\u001b[39m expr = \u001b[33m\"\u001b[39m\u001b[33mAB+CD-*\u001b[39m\u001b[33m\"\u001b[39m\n\u001b[32m---> \u001b[39m\u001b[32m13\u001b[39m \u001b[38;5;28mprint\u001b[39m(\u001b[33m\"\u001b[39m\u001b[33mPostfix to Infix:\u001b[39m\u001b[33m\"\u001b[39m, \u001b[43mpostfix_to_infix\u001b[49m\u001b[43m(\u001b[49m\u001b[43mexpr\u001b[49m\u001b[43m)\u001b[49m)\n",
      "\u001b[36mCell\u001b[39m\u001b[36m \u001b[39m\u001b[32mIn[13]\u001b[39m\u001b[32m, line 7\u001b[39m, in \u001b[36mpostfix_to_infix\u001b[39m\u001b[34m(expression)\u001b[39m\n\u001b[32m      5\u001b[39m     stack.append(char)\n\u001b[32m      6\u001b[39m \u001b[38;5;28;01melse\u001b[39;00m:\n\u001b[32m----> \u001b[39m\u001b[32m7\u001b[39m     b = \u001b[43mstack\u001b[49m\u001b[43m.\u001b[49m\u001b[43mpop\u001b[49m\u001b[43m(\u001b[49m\u001b[43m)\u001b[49m\n\u001b[32m      8\u001b[39m     a = stack.pop()\n\u001b[32m      9\u001b[39m     stack.append(\u001b[33mf\u001b[39m\u001b[33m\"\u001b[39m\u001b[33m(\u001b[39m\u001b[38;5;132;01m{\u001b[39;00ma\u001b[38;5;132;01m}\u001b[39;00m\u001b[38;5;132;01m{\u001b[39;00mchar\u001b[38;5;132;01m}\u001b[39;00m\u001b[38;5;132;01m{\u001b[39;00mb\u001b[38;5;132;01m}\u001b[39;00m\u001b[33m)\u001b[39m\u001b[33m\"\u001b[39m)\n",
      "\u001b[31mIndexError\u001b[39m: pop from empty list"
     ]
    }
   ],
   "source": [
    "def postfix_to_infix(expression):\n",
    "    stack = []\n",
    "    for char in expression.split():\n",
    "        if char.isalnum():\n",
    "            stack.append(char)\n",
    "        else:\n",
    "            b = stack.pop()\n",
    "            a = stack.pop()\n",
    "            stack.append(f\"({a}{char}{b})\")\n",
    "    return stack[-1]\n",
    "\n",
    "expr = \"AB+CD-*\"\n",
    "print(\"Postfix to Infix:\", postfix_to_infix(expr))"
   ]
  },
  {
   "cell_type": "markdown",
   "id": "31741519",
   "metadata": {},
   "source": [
    "#### Postfix ➜ Prefix\n",
    "\n",
    "Algorithm:\n",
    "\n",
    "1. Create an empty stack.\n",
    "\n",
    "2. For each token:\n",
    "\n",
    "3. If operand, push to stack.\n",
    "\n",
    "4. If operator, pop two operands b and a, combine as operator + a + b, push back.\n",
    "\n",
    "5. Final string on stack = prefix."
   ]
  },
  {
   "cell_type": "code",
   "execution_count": 14,
   "id": "2c39b4d1",
   "metadata": {},
   "outputs": [
    {
     "name": "stdout",
     "output_type": "stream",
     "text": [
      "Postfix to Prefix: *+AB-CD\n"
     ]
    }
   ],
   "source": [
    "def postfix_to_prefix(expression):\n",
    "    stack = []\n",
    "    for char in expression:\n",
    "        if char.isalnum():\n",
    "            stack.append(char)\n",
    "        else:\n",
    "            b = stack.pop()\n",
    "            a = stack.pop()\n",
    "            stack.append(char + a + b)\n",
    "    return stack[-1]\n",
    "\n",
    "expr = \"AB+CD-*\"\n",
    "print(\"Postfix to Prefix:\", postfix_to_prefix(expr))"
   ]
  },
  {
   "cell_type": "markdown",
   "id": "036e4879",
   "metadata": {},
   "source": [
    "#### Prefix ➜ Postfix\n",
    "\n",
    "Algorithm:\n",
    "\n",
    "1. Create an empty stack.\n",
    "\n",
    "2. Scan the expression right to left.\n",
    "\n",
    "3. If operand, push to stack.\n",
    "\n",
    "4. If operator, pop two operands a and b, combine as a + b + operator, push back.\n",
    "\n",
    "5. Result = top of stack."
   ]
  },
  {
   "cell_type": "code",
   "execution_count": 15,
   "id": "ec3d2ab9",
   "metadata": {},
   "outputs": [
    {
     "name": "stdout",
     "output_type": "stream",
     "text": [
      "Prefix to Postfix: AB+CD-*\n"
     ]
    }
   ],
   "source": [
    "def prefix_to_postfix(expression):\n",
    "    stack = []\n",
    "    for char in reversed(expression):\n",
    "        if char.isalnum():\n",
    "            stack.append(char)\n",
    "        else:\n",
    "            a = stack.pop()\n",
    "            b = stack.pop()\n",
    "            stack.append(a + b + char)\n",
    "    return stack[-1]\n",
    "\n",
    "expr = \"*+AB-CD\"\n",
    "print(\"Prefix to Postfix:\", prefix_to_postfix(expr))"
   ]
  },
  {
   "cell_type": "markdown",
   "id": "ffab2c70",
   "metadata": {},
   "source": [
    "#### Prefix ➜ Infix\n",
    "\n",
    "Algorithm:\n",
    "\n",
    "1. Create an empty stack.\n",
    "\n",
    "2. Scan right to left.\n",
    "\n",
    "3. If operand, push to stack.\n",
    "\n",
    "4. If operator, pop two operands a and b, combine as (a operator b) and push back.\n",
    "\n",
    "5. Result = top of stack."
   ]
  },
  {
   "cell_type": "code",
   "execution_count": 16,
   "id": "dfb0687e",
   "metadata": {},
   "outputs": [
    {
     "name": "stdout",
     "output_type": "stream",
     "text": [
      "Prefix to Infix: ((A+B)*(C-D))\n"
     ]
    }
   ],
   "source": [
    "def prefix_to_infix(expression):\n",
    "    stack = []\n",
    "    for char in reversed(expression):\n",
    "        if char.isalnum():\n",
    "            stack.append(char)\n",
    "        else:\n",
    "            a = stack.pop()\n",
    "            b = stack.pop()\n",
    "            stack.append(f\"({a}{char}{b})\")\n",
    "    return stack[-1]\n",
    "\n",
    "expr = \"*+AB-CD\"\n",
    "print(\"Prefix to Infix:\", prefix_to_infix(expr))"
   ]
  },
  {
   "cell_type": "code",
   "execution_count": null,
   "id": "490b9bca",
   "metadata": {},
   "outputs": [],
   "source": []
  }
 ],
 "metadata": {
  "kernelspec": {
   "display_name": "venv",
   "language": "python",
   "name": "python3"
  },
  "language_info": {
   "codemirror_mode": {
    "name": "ipython",
    "version": 3
   },
   "file_extension": ".py",
   "mimetype": "text/x-python",
   "name": "python",
   "nbconvert_exporter": "python",
   "pygments_lexer": "ipython3",
   "version": "3.13.5"
  }
 },
 "nbformat": 4,
 "nbformat_minor": 5
}
